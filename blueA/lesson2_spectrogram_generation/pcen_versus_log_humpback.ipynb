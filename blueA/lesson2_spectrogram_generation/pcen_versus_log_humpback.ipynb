{
 "cells": [
  {
   "cell_type": "markdown",
   "metadata": {},
   "source": [
    "![alt text](https://www.mbari.org/wp-content/uploads/2014/11/logo-mbari-3b.png \"MBARI\")\n",
    "<div align=\"center\">Copyright (c) 2021, MBARI</div>\n",
    "\n",
    "* Distributed under the terms of the GPL License\n",
    "* Maintainer: dcline@mbari.org\n",
    "* Author: Danelle Cline dcline@mbari.org"
   ]
  },
  {
   "cell_type": "markdown",
   "metadata": {},
   "source": [
    "## Humpback song PCEN versus Log \n",
    "\n",
    "This notebook digs a little deeper into PCEN with a few 5-minute sections of humpback songs from the pacific sound archive. \n",
    "\n",
    "Humpback song is more complex than the Blue whale calls and covers a larger frequency band, so I thought this would be helpful to share to researchers working with more complex sounds than blue whale sounds. This demontrates side-by-side view of two humpback song segments with varying background levels."
   ]
  },
  {
   "cell_type": "markdown",
   "metadata": {},
   "source": [
    "## Install dependencies\n",
    "First, let's install dependencies and include all packages used in this tutorial. This only needs to be done once for the duration of this notebook."
   ]
  },
  {
   "cell_type": "code",
   "execution_count": null,
   "metadata": {},
   "outputs": [],
   "source": [
    "!pip install seaborn --quiet"
   ]
  },
  {
   "cell_type": "code",
   "execution_count": null,
   "metadata": {},
   "outputs": [],
   "source": [
    "import boto3\n",
    "from botocore import UNSIGNED\n",
    "from botocore.client import Config\n",
    "import matplotlib.pyplot as plt\n",
    "import numpy as np\n",
    "import seaborn as sns\n",
    "import librosa\n",
    "import librosa.display\n",
    "from pathlib import Path\n",
    "from scipy.stats import norm\n",
    "import soundfile as sf\n",
    "from six.moves.urllib.request import urlopen\n",
    "import io\n",
    "%matplotlib inline"
   ]
  },
  {
   "cell_type": "markdown",
   "metadata": {},
   "source": [
    "# First, let's download the data used in this notebook"
   ]
  },
  {
   "cell_type": "code",
   "execution_count": null,
   "metadata": {},
   "outputs": [],
   "source": [
    "bucket = 'emso-tsc2021-session3-eu-west-3'\n",
    "wav_file_1 = 'MARS_20161221_000046_SongSession_16kHz_HPF5Hz_offset6000.wav'\n",
    "wav_file_2 = 'MARS_20161221_000046_SongSession_16kHz_HPF5Hz_offset7200.wav'\n",
    "\n",
    "wav_filenames = [wav_file_1, wav_file_2]\n",
    "\n",
    "for f in wav_filenames:\n",
    "    s3 = boto3.resource('s3',\n",
    "        aws_access_key_id='',\n",
    "        aws_secret_access_key='',\n",
    "        config=Config(signature_version=UNSIGNED))\n",
    "\n",
    "    # only download if needed\n",
    "    if not Path(f).exists():\n",
    "        print('Downloading')\n",
    "        s3.Bucket(bucket).download_file(f, f)\n",
    "        print(f'Done downloading {f}')"
   ]
  },
  {
   "cell_type": "markdown",
   "metadata": {},
   "source": [
    "# Logarithmic versus PCEN\n",
    "PCEN is a better front-end for denoising natural acoustic data sets because it changes the magnitude distributions\n",
    "to Gaussian while decorrelating frequency bands.  This improves event detection and classification as it\n",
    "enhances the onset of natural calls while suppressing background noise.\n",
    " \n",
    "First, let's set a few parameters used throughout the notebook then generate data for an ideal Gaussian curve for comparison."
   ]
  },
  {
   "cell_type": "code",
   "execution_count": null,
   "metadata": {},
   "outputs": [],
   "source": [
    "sample_rate = 16000\n",
    "fmax = 8000  # maximum frequency\n",
    "window_size = 4096 # fft window size\n",
    "overlap = 0.5 \n",
    "hop_length = int(window_size * (1 - overlap))  # convenience as it's used in multiple places"
   ]
  },
  {
   "cell_type": "code",
   "execution_count": null,
   "metadata": {},
   "outputs": [],
   "source": [
    "xs_norm = np.arange(-3, 3, 0.001)\n",
    "ys_norm = norm.pdf(xs_norm, 0, 1)"
   ]
  },
  {
   "cell_type": "code",
   "execution_count": null,
   "metadata": {},
   "outputs": [],
   "source": [
    "def display_spec_mag(log_array:np.array([]), pcen_s_array:np.array([])):\n",
    "    \"\"\"\n",
    "    Displays spectrogram and magnitude distribution grid of log versus pcen arrays\n",
    "    :param log_array:  numpy array of log computed mel spectrogram array\n",
    "    :param pcen_s_array:  numpy array of PCEN computed mel spectrogram array\n",
    "    :return: \n",
    "    \"\"\"\n",
    "    fig = plt.figure(constrained_layout=True,  figsize=(10, 10))\n",
    "    widths = [4, 1]\n",
    "    heights = [1, 1]\n",
    "    axes = []\n",
    "    spec = fig.add_gridspec(ncols=2, nrows=2, width_ratios=widths, height_ratios=heights )\n",
    "    for row in range(2):\n",
    "        for col in range(2):\n",
    "            axes.append(fig.add_subplot(spec[row, col]))\n",
    "    def normalize(a):\n",
    "        return (a - a.mean(axis=0)) / a.std(axis=0)\n",
    "    \n",
    "    librosa.display.specshow(log_array, x_axis='time', y_axis='mel', ax=axes[0], cmap='Blues', sr=sample_rate,\n",
    "                             hop_length=hop_length)\n",
    "    axes[0].set_title('Logarithmic transformation ')\n",
    "    sns.distplot(normalize(log_array), ax=axes[1])\n",
    "    axes[1].set_title('magnitude distribution');axes[1].set_xlim(-4, 4); axes[1].set_ylim(0, 0.5)\n",
    "    axes[1].plot(xs_norm, ys_norm, 'r--', label=\"Gaussian\")\n",
    "    \n",
    "    librosa.display.specshow(pcen_s_array, x_axis='time', y_axis='mel', ax=axes[2], cmap='Blues', sr=sample_rate, \n",
    "                             hop_length=hop_length)\n",
    "    axes[2].set_title('Per-channel energy normalization')\n",
    "    #plt.colorbar(format='%+2.0f dB')\n",
    "    sns.distplot(normalize(pcen_s_array), ax=axes[3])\n",
    "    axes[1].set_title('magnitude distribution');axes[3].set_xlim(-4, 4); axes[3].set_ylim(0, 0.5)\n",
    "    axes[3].plot(xs_norm, ys_norm, 'r--', label=\"Gaussian\")"
   ]
  },
  {
   "cell_type": "markdown",
   "metadata": {},
   "source": [
    "# Side-by-side comparison\n",
    "### Load two 5 minutes segments from a wav file representing two different background levels"
   ]
  },
  {
   "cell_type": "code",
   "execution_count": null,
   "metadata": {},
   "outputs": [],
   "source": [
    "def read_from_bucket(wav_file:str):\n",
    "    bucket = 'emso-tsc2021-session3-eu-west-3'\n",
    "    url = f'https://{bucket}.s3.amazonaws.com/{wav_file}'\n",
    "    print(f'Reading from {url}')\n",
    "    samples, sample_rate = sf.read(io.BytesIO(urlopen(url).read()),dtype='float32')\n",
    "    # v, sample_rate = sf.read(filename)\n",
    "    nsec = (samples.size)/sample_rate # number of seconds in vector\n",
    "    print(f'Read {nsec} seconds of data')\n",
    "    return samples, sample_rate\n",
    "\n",
    "samples_1, sample_rate = read_from_bucket(wav_file_1)\n",
    "samples_2, sample_rate = read_from_bucket(wav_file_2)"
   ]
  },
  {
   "cell_type": "markdown",
   "metadata": {},
   "source": [
    "# Sound recording sample 1\n",
    "### Compute the spectrogram both for with the log mel transformation and PCEN for sound recording in the first sample A\n",
    "\n",
    "Note that the librosa PCEN requires data scaled 2e-31 to 2e+31,  *not* -1 to 1 as is generally the case for many sound files."
   ]
  },
  {
   "cell_type": "code",
   "execution_count": null,
   "metadata": {},
   "outputs": [],
   "source": [
    "S = librosa.feature.melspectrogram(samples_1, sr=sample_rate, power=1, fmax=fmax, n_fft=window_size, hop_length=hop_length)\n",
    "log_S_1 = librosa.amplitude_to_db(S, ref=np.max)\n",
    "pcen_S_A = librosa.pcen(S, sr=sample_rate, hop_length=hop_length, gain=0.70, time_constant=0.6, power=0.5, bias=.02, eps=10e-6)\n",
    "display_spec_mag(log_S_1, (pcen_S_A))"
   ]
  },
  {
   "cell_type": "markdown",
   "metadata": {},
   "source": [
    "# Sound recording sample 2"
   ]
  },
  {
   "cell_type": "code",
   "execution_count": null,
   "metadata": {},
   "outputs": [],
   "source": [
    "S = librosa.feature.melspectrogram(samples_2, sr=sample_rate, power=1, fmax=fmax, n_fft=window_size, hop_length=hop_length)\n",
    "log_S_2 = librosa.amplitude_to_db(S, ref=np.max)\n",
    "pcen_S_B = librosa.pcen(S, hop_length=hop_length, gain=0.70, time_constant=0.6, power=0.50, bias=0.02, eps=10e-6)\n",
    "display_spec_mag(log_S_2, pcen_S_B)"
   ]
  }
 ],
 "metadata": {
  "kernelspec": {
   "display_name": "emso-tsc2021-session3",
   "language": "python",
   "name": "emso-tsc2021-session3"
  },
  "language_info": {
   "codemirror_mode": {
    "name": "ipython",
    "version": 3
   },
   "file_extension": ".py",
   "mimetype": "text/x-python",
   "name": "python",
   "nbconvert_exporter": "python",
   "pygments_lexer": "ipython3"
  }
 },
 "nbformat": 4,
 "nbformat_minor": 1
}
