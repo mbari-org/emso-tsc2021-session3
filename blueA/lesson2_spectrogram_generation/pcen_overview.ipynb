{
 "cells": [
  {
   "cell_type": "markdown",
   "metadata": {},
   "source": [
    "![alt text](https://www.mbari.org/wp-content/uploads/2014/11/logo-mbari-3b.png \"MBARI\")\n",
    "<div align=\"center\">Copyright (c) 2021, MBARI</div>\n",
    "\n",
    "* Distributed under the terms of the GPL License\n",
    "* Maintainer: dcline@mbari.org\n",
    "* Author: Danelle Cline dcline@mbari.org"
   ]
  },
  {
   "cell_type": "markdown",
   "metadata": {},
   "source": [
    "##  Preprocessing using PCEN\n",
    "\n",
    "Noise removal is an essential aspect of effective sound detection and classification and noise from boats, recording equipment, or \"noise\" from species vocalizing in the same frequency band all interfere with classification performance.\n",
    "\n",
    "While we can't do much about species vocalizing in the same band, removal of noise, in particular, stationary narrow-band noise is possible using a method called Per Channel Energy Normalization (PCEN)[1]. PCEN also has other desirable properties including: a) it gaussianizes the background, and b) it can enhance the onset of a call [1][2].\n",
    "In short, PCEN helps isolate sound units which is essential for both detection and classification.\n",
    "We have found PCEN improves performance across both supervised and unsupervised machine learning methods we have tried.\n",
    "Google also found this useful in their exploration of humpback song [3].\n",
    "\n",
    "## Install dependencies\n",
    "First, let's install dependencies and include all packages used in this tutorial. This only needs to be done once for the duration of this notebook."
   ]
  },
  {
   "cell_type": "code",
   "execution_count": null,
   "metadata": {},
   "outputs": [],
   "source": [
    "!pip install boto3 --quiet\n",
    "!pip install numpy --quiet\n",
    "!pip install soundfile --quiet\n",
    "!pip install scikit-learn --quiet\n",
    "!pip install librosa==0.8.1 --quiet"
   ]
  },
  {
   "cell_type": "code",
   "execution_count": null,
   "metadata": {},
   "outputs": [],
   "source": [
    "%matplotlib inline\n",
    "import boto3\n",
    "from botocore import UNSIGNED\n",
    "from botocore.client import Config\n",
    "import numpy as np\n",
    "import sklearn\n",
    "import soundfile as sf\n",
    "import librosa\n",
    "import matplotlib.pyplot as plt\n",
    "from pathlib import Path"
   ]
  },
  {
   "cell_type": "markdown",
   "metadata": {},
   "source": [
    "# Read in a sound file"
   ]
  },
  {
   "cell_type": "code",
   "execution_count": null,
   "metadata": {},
   "outputs": [],
   "source": [
    "# First, let's download the data used in this notebook\n",
    "bucket = 'emso-tsc2021-session3-eu-west-3'\n",
    "wav_filename = 'blue_A_2.wav'\n",
    "\n",
    "s3 = boto3.resource('s3',\n",
    "    aws_access_key_id='',\n",
    "    aws_secret_access_key='',\n",
    "    config=Config(signature_version=UNSIGNED))\n",
    "\n",
    "# only download if needed\n",
    "if not Path(wav_filename).exists():\n",
    "    print('Downloading')\n",
    "    s3.Bucket(bucket).download_file(wav_filename, wav_filename)\n",
    "    print(f'Done downloading {wav_filename}')\n",
    "\n",
    "samples, sample_rate = sf.read(wav_filename)#,dtype='float32')\n",
    "nsec = (samples.size)/sample_rate # number of seconds in vector\n",
    "print(f'Read {nsec} seconds of data')"
   ]
  },
  {
   "cell_type": "markdown",
   "metadata": {},
   "source": [
    "# Compute the STFT and zoom into the call"
   ]
  },
  {
   "cell_type": "code",
   "execution_count": null,
   "metadata": {},
   "outputs": [],
   "source": [
    "num_fft = 1024\n",
    "overlap = 0.95\n",
    "hop_length=int(num_fft*(1-overlap))\n",
    "\n",
    "# Set high/low frequency expected for A calls\n",
    "low_freq = 70\n",
    "high_freq = 100\n",
    " \n",
    "# Compute mel spectrogram\n",
    "S = librosa.feature.melspectrogram(\n",
    "                        sklearn.preprocessing.minmax_scale(samples, \n",
    "                                                           feature_range=((-2 ** 31), (2 ** 31))),\n",
    "                        sr = sample_rate,\n",
    "                        hop_length = hop_length,\n",
    "                        power = 1,\n",
    "                        n_mels = 30,\n",
    "                        fmin = low_freq,\n",
    "                        fmax = high_freq)"
   ]
  },
  {
   "cell_type": "markdown",
   "metadata": {},
   "source": [
    "# PCEN Components\n",
    "\n",
    "The three main components in PCEN are:\n",
    "\n",
    "1. Gain control\n",
    "2. Temporal integraion\n",
    "3. Dynamic range compression\n",
    "\n",
    "PCEN can be implemented as a neural network layer and jointly optimized with e.g. a CNN. This is an advanced topic outside the scope of this tutorial.\n",
    "\n",
    "For isolated sound units, gain control is the more significant factor.  You will want to experimentally determine the best settings for your data."
   ]
  },
  {
   "cell_type": "markdown",
   "metadata": {},
   "source": [
    "# Gain control"
   ]
  },
  {
   "cell_type": "code",
   "execution_count": null,
   "metadata": {},
   "outputs": [],
   "source": [
    "plt.figure(figsize=(10, 2), dpi=300)\n",
    "\n",
    "gain = [0.125, 0.25, 0.5, 0.95]\n",
    "\n",
    "for i, g in enumerate(gain):\n",
    "    D = librosa.pcen(S * (2 ** 31), gain=g, sr=sample_rate, hop_length=hop_length)\n",
    "\n",
    "    plt.subplot(1, 5, i+1)\n",
    "    plt.axis('off')\n",
    "    plt.imshow(np.flipud(D),aspect='auto',origin='lower', interpolation='bilinear', cmap='Blues')\n",
    "    plt.title(f'gain={g}')\n",
    "    plt.tight_layout()\n",
    "    plt.axis('off')"
   ]
  },
  {
   "cell_type": "markdown",
   "metadata": {},
   "source": [
    "### References\n",
    " - [1] https://arxiv.org/pdf/1607.05666.pdf\n",
    " - [2] http://www.justinsalamon.com/uploads/4/3/9/4/4394963/lostanlen_pcen_spl2018.pdf\n",
    " - [3] https://tfhub.dev/google/humpback_whale/1\n"
   ]
  }
 ],
 "metadata": {
  "kernelspec": {
   "display_name": "emso-tsc2021-session3",
   "language": "python",
   "name": "emso-tsc2021-session3"
  },
  "language_info": {
   "codemirror_mode": {
    "name": "ipython",
    "version": 3
   },
   "file_extension": ".py",
   "mimetype": "text/x-python",
   "name": "python",
   "nbconvert_exporter": "python",
   "pygments_lexer": "ipython3"
  }
 },
 "nbformat": 4,
 "nbformat_minor": 1
}
