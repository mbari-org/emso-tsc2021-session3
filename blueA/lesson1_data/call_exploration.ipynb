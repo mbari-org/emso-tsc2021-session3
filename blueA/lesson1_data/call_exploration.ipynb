{
 "cells": [
  {
   "cell_type": "markdown",
   "metadata": {},
   "source": [
    "![alt text](https://www.mbari.org/wp-content/uploads/2014/11/logo-mbari-3b.png \"MBARI\")\n",
    "<div align=\"center\">Copyright (c) 2020, MBARI</div>\n",
    "\n",
    "* Distributed under the terms of the GPL License\n",
    "* Maintainer: dcline@mbari.org\n",
    "* Author: Danelle Cline dcline@mbari.org"
   ]
  },
  {
   "cell_type": "markdown",
   "metadata": {},
   "source": [
    "## Basic Exploration of Blue whale A call\n",
    "\n",
    "Here we will be covering a basic exploration of the blue A call.\n",
    "\n",
    "Public sound libraries:\n",
    "* [https://www.mbari.org/soundscape-listening-room/](https://www.mbari.org/soundscape-listening-room/)\n",
    "* [http://cetus.ucsd.edu/voicesinthesea_org/species/baleenWhales/blue.html#](http://cetus.ucsd.edu/voicesinthesea_org/species/baleenWhales/blue.html)"
   ]
  },
  {
   "cell_type": "markdown",
   "metadata": {},
   "source": [
    "## Install dependencies\n",
    "First, let's install dependencies and include all packages used in this tutorial. This only needs to be done once for the duration of this notebook."
   ]
  },
  {
   "cell_type": "code",
   "execution_count": null,
   "metadata": {},
   "outputs": [],
   "source": [
    "%pip install boto3 --quiet\n",
    "%pip install librosa==0.8.1 --quiet\n",
    "%pip install matplotlib --quiet"
   ]
  },
  {
   "cell_type": "code",
   "execution_count": null,
   "metadata": {},
   "outputs": [],
   "source": [
    "%matplotlib inline\n",
    "import boto3\n",
    "from botocore import UNSIGNED\n",
    "from botocore.client import Config\n",
    "import librosa\n",
    "import numpy as np\n",
    "import matplotlib.pyplot as plt\n",
    "import soundfile as sf\n",
    "from pathlib import Path\n",
    "from librosa.display import specshow, waveplot"
   ]
  },
  {
   "cell_type": "markdown",
   "metadata": {},
   "source": [
    "# Blue A Call\n",
    "\n",
    "Blue whale A calls typical characteristics:\n",
    "*  In the frequency band 70 and 120Hz\n",
    "*  Less than 25 seconds long\n",
    "*  Characterized by a series of short pulses"
   ]
  },
  {
   "cell_type": "markdown",
   "metadata": {},
   "source": [
    "## Open an example Blue whale A call sound file"
   ]
  },
  {
   "cell_type": "code",
   "execution_count": null,
   "metadata": {},
   "outputs": [],
   "source": [
    "# First, let's download the data used in this notebook\n",
    "bucket = 'emso-tsc2021-session3-eu-west-3'\n",
    "wav_filename = 'blue_A_2.wav'\n",
    "\n",
    "s3 = boto3.resource('s3',\n",
    "    aws_access_key_id='',\n",
    "    aws_secret_access_key='',\n",
    "    config=Config(signature_version=UNSIGNED))\n",
    "\n",
    "# only download if needed\n",
    "if not Path(wav_filename).exists():\n",
    "    print('Downloading')\n",
    "    s3.Bucket(bucket).download_file(wav_filename, wav_filename)\n",
    "    print(f'Done downloading {wav_filename}')\n",
    "\n",
    "samples, sample_rate = sf.read(wav_filename,dtype='float32')\n",
    "nsec = (samples.size)/sample_rate # number of seconds in vector\n",
    "print(f'Read {nsec} seconds of data')\n"
   ]
  },
  {
   "cell_type": "markdown",
   "metadata": {},
   "source": [
    "##  Display waveform and STFT power"
   ]
  },
  {
   "cell_type": "code",
   "execution_count": null,
   "metadata": {},
   "outputs": [],
   "source": [
    "num_fft = 128\n",
    "overlap = 0.50\n",
    "A_stft = np.abs(librosa.stft(y=samples, n_fft=num_fft,\n",
    "                             hop_length=int(num_fft*(1-overlap))))\n",
    "\n",
    "plt.figure(figsize=(10,5)) \n",
    "plt.title('Blue Whale A Call')\n",
    "plt.subplot(3, 1, 1)\n",
    "specshow(A_stft, x_axis='time', y_axis='hz',cmap='Blues',\n",
    "                         hop_length=int(num_fft*(1-overlap)), \n",
    "                         sr=sample_rate)\n",
    "plt.title('Linear-frequency Power Spectrogram');\n",
    "\n",
    "plt.subplot(3, 1, 2)\n",
    "specshow(A_stft, x_axis='time', y_axis='log', cmap='Blues',\n",
    "                         hop_length=int(num_fft*(1-overlap)),\n",
    "                        sr=sample_rate)\n",
    "plt.title('Log-frequency Power Spectrogram');\n",
    "\n",
    "plt.subplot(3, 1, 3)\n",
    "waveplot(y=samples, sr=sample_rate)\n",
    "plt.title('Raw Waveform');"
   ]
  },
  {
   "cell_type": "markdown",
   "metadata": {},
   "source": [
    "##  Zoom in to the call around the frequency window\n",
    "\n",
    "The calls occur within a narrow frequency window, so let's zoom in to take a closer look. Here, we will use different fft parameters to generate a spectrogram more suited for classification."
   ]
  },
  {
   "cell_type": "code",
   "execution_count": null,
   "metadata": {},
   "outputs": [],
   "source": [
    "def zoom_call(D, low_freq:int, high_freq:int, sample_rate:int, overlap:float, title:str):\n",
    "    \"\"\"\n",
    "    Utility to zoom into the stft within a frequency bounds and plot on a linear scale\n",
    "    :param D:\n",
    "    :param low_freq:\n",
    "    :param high_freq:\n",
    "    :param sample_rate:\n",
    "    :param overlap:\n",
    "    :param title:\n",
    "    :return:\n",
    "    \"\"\"\n",
    "    freq_bin = float(D.shape[0]) / float(sample_rate / 2)\n",
    "    minM = -1 * (D.shape[0] - int(low_freq * freq_bin))\n",
    "    maxM = -1 * (D.shape[0] - int(high_freq * freq_bin))\n",
    "    \n",
    "    librosa.display.specshow(D[minM:maxM], x_axis='time', y_axis='hz', cmap='Blues', \n",
    "                             hop_length=int(num_fft*(1-overlap)), sr=sample_rate)\n",
    "    plt.title(title);\n",
    "    # Remap the y ticks\n",
    "    locs, labels = plt.yticks()\n",
    "    r = np.arange(start=low_freq, stop=high_freq+1, step=(high_freq - low_freq)/(len(locs) - 1))\n",
    "    new_labels = [\"%.2f\" % i for i in r]\n",
    "    plt.yticks(locs, new_labels);"
   ]
  },
  {
   "cell_type": "code",
   "execution_count": null,
   "metadata": {},
   "outputs": [],
   "source": [
    "# Compute STFT\n",
    "num_fft = 1024\n",
    "overlap = 0.95\n",
    "A_stft = np.abs(librosa.stft(y=samples, n_fft=num_fft,\n",
    "                             hop_length=int(num_fft*(1-overlap)))) \n",
    "\n",
    "# Set bounds for call and plot\n",
    "low_freq = 70\n",
    "high_freq = 100 \n",
    "title = 'Blue Whale A Call Linear-frequency Power Spectrogram'\n",
    "zoom_call(A_stft, low_freq, high_freq, sample_rate, overlap,  title)"
   ]
  },
  {
   "cell_type": "markdown",
   "metadata": {},
   "source": [
    "# Questions or comments\n",
    "* Danelle Cline dcline@mbari.org"
   ]
  }
 ],
 "metadata": {
  "kernelspec": {
   "display_name": "Python 3 (ipykernel)",
   "language": "python",
   "name": "python3"
  },
  "language_info": {
   "codemirror_mode": {
    "name": "ipython",
    "version": 3
   },
   "file_extension": ".py",
   "mimetype": "text/x-python",
   "name": "python",
   "nbconvert_exporter": "python",
   "pygments_lexer": "ipython3",
   "version": "3.8.0"
  }
 },
 "nbformat": 4,
 "nbformat_minor": 2
}