{
 "cells": [
  {
   "cell_type": "markdown",
   "metadata": {
    "id": "vmlzyjyZStZ3"
   },
   "source": [
    "   ![alt text](https://www.mbari.org/wp-content/uploads/2014/11/logo-mbari-3b.png \"MBARI\")\n",
    "\n",
    "  <div align=\"left\">Copyright (c) 2021, MBARI</div>\n",
    "    \n",
    "  * Distributed under the terms of the GPL License\n",
    "  * Maintainer: dcline@mbari.org\n",
    "  * Authors: Danelle Cline dcline@mbari.org, John Ryan ryjo@mbari.org"
   ]
  },
  {
   "cell_type": "markdown",
   "metadata": {
    "id": "6h0JRTviT-fW"
   },
   "source": [
    "## Blue whale song\n",
    "---\n",
    "Baleen whales produce rhythmic repeated sequences of sound; they sing.  Analysis of song occurrence patterns can yield insights into the behavioral ecology of blue whales.  This tutorial describes use of the *Pacific Ocean Sound Recordings* archive to examine temporal patterns in the occurrence of blue whale song within foraging habitat of the central California Current System.  Signal processing methods in this tutorial focus on the blue whale B call.  A companion tutorial illustrates classification of blue whale A calls using supervised machine learning.\n"
   ]
  },
  {
   "cell_type": "markdown",
   "metadata": {
    "id": "H8P2AGrQUOxu"
   },
   "source": [
    "## Install dependencies\n",
    "---\n",
    "Install dependencies and include all packages used in this tutorial. This only needs to be done once for the duration of this notebook."
   ]
  },
  {
   "cell_type": "code",
   "execution_count": null,
   "metadata": {
    "id": "bu5cv0WFx3hX"
   },
   "outputs": [],
   "source": [
    "%pip install -q boto3\n",
    "%pip install -q soundfile\n",
    "%pip install -q scipy\n",
    "%pip install -q numpy\n",
    "%pip install -q matplotlib\n",
    "import boto3, botocore\n",
    "from botocore import UNSIGNED\n",
    "from botocore.client import Config\n",
    "from six.moves.urllib.request import urlopen\n",
    "import io\n",
    "import scipy\n",
    "from scipy import signal\n",
    "import numpy as np\n",
    "import soundfile as sf\n",
    "import matplotlib.pyplot as plt\n",
    "from scipy.stats import binned_statistic"
   ]
  },
  {
   "cell_type": "markdown",
   "metadata": {
    "id": "87EGQ0Oc5oD5"
   },
   "source": [
    "## Data Access\n",
    "---\n",
    "This section covers file listing, metadata retrieval, and data loading."
   ]
  },
  {
   "cell_type": "markdown",
   "metadata": {
    "id": "XCrebjlq4Wlu"
   },
   "source": [
    "### List files\n",
    "Files are organized by year and month; list all of the files available for one month of one year. "
   ]
  },
  {
   "cell_type": "code",
   "execution_count": null,
   "metadata": {
    "id": "bW3CX3QM5yhy"
   },
   "outputs": [],
   "source": [
    "s3 = boto3.client('s3',\n",
    "    aws_access_key_id='',\n",
    "    aws_secret_access_key='', \n",
    "    config=Config(signature_version=UNSIGNED))\n",
    "\n",
    "year = \"2017\"\n",
    "month = \"11\"\n",
    "bucket = 'pacific-sound-2khz'\n",
    "\n",
    "for obj in s3.list_objects_v2(Bucket=bucket, Prefix=f'{year}/{month}')['Contents']:\n",
    "    print(obj['Key'])"
   ]
  },
  {
   "cell_type": "markdown",
   "metadata": {
    "id": "Dj4G4njL3kyu"
   },
   "source": [
    "### Load data\n",
    "Read a single daily file."
   ]
  },
  {
   "cell_type": "code",
   "execution_count": null,
   "metadata": {
    "id": "secilEU835tT"
   },
   "outputs": [],
   "source": [
    "# read full-day of data\n",
    "filename = 'MARS-20171101T000000Z-2kHz.wav'\n",
    "bucket = 'pacific-sound-2khz'\n",
    "key = f'{year}/{month}/{filename}'\n",
    "url = f'https://{bucket}.s3.amazonaws.com/{key}'\n",
    "print(f'Reading from {url}')\n",
    "v, sample_rate = sf.read(io.BytesIO(urlopen(url).read()),dtype='float32') \n",
    "v = v*3   # convert scaled voltage to volts\n",
    "nsec = (v.size)/sample_rate # number of seconds in vector\n",
    "print(f'Read {nsec} seconds of data')"
   ]
  },
  {
   "cell_type": "markdown",
   "metadata": {
    "id": "1JZRxlnaIOhP"
   },
   "source": [
    "## A view of blue whale song\n",
    "---\n",
    "To understand the method of quantifying song occurrence using acoustic power analysis (following Širović et al. 2004; 2009), it is useful to first consider the attributes of blue whale song.  Songs of the northeast Pacific blue whale population include three types of calls: A, B, and C.  The B calls have the strongest intensity and are thus often used to characterize song occurrence.  \n",
    "\n",
    "Analysis approaches include (1) detecting, classifying, and counting calls, and (2) quantifying the energy within the frequency band of the call, relative to that at background frequencies.  The first approach becomes difficult during periods when the whales chorus because the presence of overlapping calls thwarts distinction of individual calls.  The second approach can be applied consistently regardless of whether or not vocalizations overlap.  Application of this second approach to years of recordings, together with animal-borne metrics, revealed an [acoustic signature of blue whale migration](https://www.sciencedirect.com/science/article/pii/S0960982220313312).\n",
    "\n",
    "Using the data just loaded, let's examine blue whale song structure.\n",
    "\n"
   ]
  },
  {
   "cell_type": "code",
   "execution_count": null,
   "metadata": {
    "id": "VufcaglX-OOA"
   },
   "outputs": [],
   "source": [
    "# Compute spectrogram \n",
    "w = scipy.signal.get_window('hann',sample_rate)\n",
    "f, t, psd = scipy.signal.spectrogram(v, sample_rate,nperseg=sample_rate,noverlap=0,window=w,nfft=sample_rate)\n",
    "# psd is power spectral density\n",
    "sens = -177.9  # hydrophone sensitivity at 250 Hz (deployment 2)\n",
    "psd = 10*np.log10(psd) - sens\n",
    "print(f':: psd.shape           = {psd.shape}')\n",
    "print(f':: f.size              = {f.size}')\n",
    "print(f':: t.size              = {t.size}')\n",
    "\n",
    "# Subset 30 minutes\n",
    "starthour = 7\n",
    "startsec = int((starthour)*3600 +1)\n",
    "endsec = startsec+1800\n",
    "psds = psd[:,startsec:endsec]\n",
    "print(f':: subset of psd shape  = {psds.shape}')\n",
    "# Plot\n",
    "plt.figure(dpi=200, figsize = [9,3])\n",
    "plt.imshow(psds,aspect='auto',origin='lower',vmin=45,vmax=105)\n",
    "plt.plot([1, 1790],[39, 39],'w--')\n",
    "plt.plot([1, 1790],[48, 48],'w--')\n",
    "plt.colorbar(label='Spectrum level (dB re 1 $\\mu$Pa$^2$/Hz)')\n",
    "plt.ylim(8,1000)\n",
    "plt.yscale('log')\n",
    "plt.xlabel('Second of hour 07')\n",
    "plt.ylabel('Frequency (Hz)')\n",
    "plt.title('Baleen whale song, 01-Nov-2017')\n",
    "plt.annotate(\"C\",(1250,10),color='w')\n",
    "plt.annotate(\"B\",(1250,13.5),color='w')\n",
    "plt.annotate(\"B$_2$\",(1250,27),color='w')\n",
    "plt.annotate(\"B$_3$\",(1250,41),color='w')\n",
    "plt.annotate(\"B$_4$\",(1250,55),color='w')\n",
    "plt.annotate(\"A\",(1250,78),color='w')\n",
    "plt.annotate(\"blue whale\",(1250,110),color='w')\n",
    "plt.annotate(\"fin whale\",(400,20),color='w')\n",
    "plt.annotate(\"humpback whale\",(600,500),color='w')\n"
   ]
  },
  {
   "cell_type": "markdown",
   "metadata": {
    "id": "6wAF4j1se39S"
   },
   "source": [
    "In the spectrogram above, the labels align with frequency bands where the call energy occurs.  The third harmonic of the blue whale B call, within the frequency band defined by the dashed lines, carries the most energy in their songs and is the strongest signal for analysis.  Fin whale calls occurred throughout the time period shown, brief (< 1 second) pulses with energy between the fundamental and second harmonic of the blue whale B calls.  Humpback whale song occupies the largest frequency range."
   ]
  },
  {
   "cell_type": "markdown",
   "metadata": {
    "id": "chZDT-nV-zdE"
   },
   "source": [
    "## Call index\n",
    "---\n",
    "To consider the peak and background frequencies used in the calculation of call index, let's examine the average spectrum levels for period shown above."
   ]
  },
  {
   "cell_type": "code",
   "execution_count": null,
   "metadata": {
    "id": "WHHR27t-f8l4"
   },
   "outputs": [],
   "source": [
    "m = np.mean(psds,axis=1)\n",
    "plt.figure(dpi=200, figsize = [7,3])\n",
    "xl = [74,98]\n",
    "plt.plot(m,f,'k-o')\n",
    "plt.ylim(33,52)\n",
    "plt.xlim(xl)\n",
    "plt.plot(xl,[43, 43],'b--')\n",
    "plt.plot(xl,[35, 35],'r--')\n",
    "plt.plot(xl,[50, 50],'r--')\n",
    "plt.xlabel('Mean spectrum level (dB re 1 $\\mu$Pa$^2$/Hz)')\n",
    "plt.ylabel('Frequency (Hz)')"
   ]
  },
  {
   "cell_type": "markdown",
   "metadata": {
    "id": "_b_9zqEzmSmt"
   },
   "source": [
    "Power within the peak caused by B calls (dashed blue line) is much higher than that of the background (dashed red lines).  The call index (CI) is simply the ratio of signal (spectrum level at the peak frequency) to noise (average spectrum level at the background frequencies).  To examine response of the index to variation in call activity, let's compute CI at 1-second resolution."
   ]
  },
  {
   "cell_type": "code",
   "execution_count": null,
   "metadata": {
    "id": "BAxMt7OYdJqG"
   },
   "outputs": [],
   "source": [
    "print(f':: subset of psd shape  = {psds.shape}')\n",
    "pk = np.squeeze(psds[f==43,:])\n",
    "print(f':: pk shape  = {pk.shape}')\n",
    "bg = np.mean(np.squeeze(np.array(psds[(f==35) | (f==50),:])),axis=0); \n",
    "print(f':: bg shape  = {bg.shape}')\n",
    "# Call index (CI)\n",
    "CI = pk/bg; \n",
    "# reduce noise with a median filter (calls are ~10 s or longer)\n",
    "CIf = scipy.signal.medfilt(CI,3)\n",
    "plt.figure(dpi=200, figsize = [9,3])\n",
    "plt.plot(CIf)\n",
    "plt.xlim(0,1000)\n",
    "plt.xlabel('Seconds')\n",
    "plt.ylabel('CI')"
   ]
  },
  {
   "cell_type": "markdown",
   "metadata": {
    "id": "NYHeb0Cz8E90"
   },
   "source": [
    "##Time-series analysis\n",
    "---\n",
    "Now that we have methods to compute the call index, we can execute batch processing to extract time-series statistics.  A consideration here is that blue whale B calls have a relatively long duration, thus computing power spectral density over periods longer than 1 second (above) can be useful for data reduction in time-series analysis.  We will use 1 minute for the analysis below."
   ]
  },
  {
   "cell_type": "markdown",
   "metadata": {
    "id": "D7Yuw9DiUzUp"
   },
   "source": [
    "###Single-day processing\n",
    "First, define the standard daily processing steps."
   ]
  },
  {
   "cell_type": "code",
   "execution_count": null,
   "metadata": {
    "id": "Wa9s4S2sBTKY"
   },
   "outputs": [],
   "source": [
    "# define standard segment processing\n",
    "w = scipy.signal.get_window('hann',sample_rate)\n",
    "totsec = (v.size)/sample_rate # total number of seconds in vector\n",
    "spa = 60  # seconds per average\n",
    "nseg = int(totsec/spa)\n",
    "print(f'{nseg} segments of length {spa} seconds in {totsec} seconds of audio')\n",
    "\n",
    "# initialize empty spectrogram\n",
    "nfreq = int(sample_rate/2+1)\n",
    "sg = np.empty((nfreq, nseg), float)\n",
    "print(f':: individual spectrogram shape   =   {sg.shape}')\n",
    "\n",
    "# process\n",
    "for x in range(0,nseg):\n",
    "  cstart = x*spa*sample_rate; cend = (x+1)*spa*sample_rate\n",
    "  cv = v[cstart:cend]\n",
    "  f,psd = scipy.signal.welch(cv,fs=sample_rate,window=w,nfft=sample_rate)\n",
    "  psd = 10*np.log10(psd) - sens\n",
    "  sg[:,x] = psd\n",
    "\n",
    "# plot spectrogram for example day\n",
    "plt.figure(dpi=200, figsize = [9,3])\n",
    "plt.imshow(sg,aspect='auto',origin='lower',vmin=45,vmax=105)\n",
    "plt.yscale('log')\n",
    "plt.ylim(10,1000)\n",
    "plt.colorbar(label='Spectrum level (dB re 1 $\\mu$Pa$^2$/Hz)')\n",
    "plt.xlabel('Minute of day')\n",
    "plt.ylabel('Frequency (Hz)')\n",
    "plt.title('01-November-2017')\n",
    "plt.annotate(\"B$_3$\",(10,41),color='w')"
   ]
  },
  {
   "cell_type": "markdown",
   "metadata": {
    "id": "hiEnoYiQVjX1"
   },
   "source": [
    "In the frequency band of the B-call third harmonic, just above 40 Hz, we can see calls present throughout the day, with greater intensity during the first half of the day.  This is more clearly quantified by CI."
   ]
  },
  {
   "cell_type": "code",
   "execution_count": null,
   "metadata": {
    "id": "P83JlmMQSD-E"
   },
   "outputs": [],
   "source": [
    "# compute call index for the day at 1-minute resolution\n",
    "pk = np.squeeze(sg[f==43,:])\n",
    "bg = np.mean(np.squeeze(np.array(sg[(f==35) | (f==50),:])),axis=0); \n",
    "CI = pk/bg; \n",
    "# compute hourly means\n",
    "hr = np.arange(0, 1440, 1)/60    # hour of day reference\n",
    "bin_means, bin_edges, binnumber = scipy.stats.binned_statistic(hr, CI, statistic='mean', bins=24, range=(0,24))\n",
    "hourcenters = np.arange(0.5,24.5,1)\n",
    "# plot\n",
    "plt.figure(dpi=200, figsize = [9,3])\n",
    "plt.plot(hr,CI,'.',color='lightgray')\n",
    "plt.plot(hourcenters,bin_means,'ks')\n",
    "plt.xlabel('Hour of day')\n",
    "plt.ylabel('B-call index (CI)')\n",
    "plt.xlim(0,24)\n",
    "_ = plt.xticks(np.arange(0,25,1))\n",
    "plt.title('CI at 1-minute and hourly resolution')"
   ]
  },
  {
   "cell_type": "markdown",
   "metadata": {
    "id": "MT4GIGTKIFqz"
   },
   "source": [
    "### Batch processing\n",
    "To consider variability at longer time scales, let's process one week of data, computing CI for each minute of each day.  The week of November 12 - 18, 2017 is a good week, with strong variation in the call index and no recording gaps."
   ]
  },
  {
   "cell_type": "code",
   "execution_count": null,
   "metadata": {
    "id": "0QhH1Z4DL3Gd"
   },
   "outputs": [],
   "source": [
    "# Batch process the week of daily files\n",
    "F = -1   # first row index will be 0 after increment\n",
    "spa = 60  # seconds per average\n",
    "nseg = int(86400/spa)   # number of processing segments\n",
    "# Initialize arrays to hold CI\n",
    "# dimensions: number of days x number of segments per day\n",
    "NumberOfDays = 7\n",
    "CIm = np.zeros((NumberOfDays,nseg))\n",
    "\n",
    "sample_rate = 2000   # data sample rate\n",
    "w = scipy.signal.get_window('hann',sample_rate)   # 1-second window for 2 kHz data\n",
    "nfreq = int(sample_rate/2+1)   # number of output frequencies in spectrogram\n",
    "\n",
    "D = range(12,19)\n",
    "for n in D:\n",
    "  filename = \"MARS-201711\" + str(n) + \"T000000Z-2kHz.wav\"\n",
    "  key = f'{year}/{month}/{filename}'\n",
    "  url = f'https://{bucket}.s3.amazonaws.com/{key}'\n",
    "  print(f'Reading {url}') \n",
    "  F = F+1\n",
    "  v, fs = sf.read(io.BytesIO(urlopen(url).read()),dtype='float32')\n",
    "  v = v*3   # convert scaled voltage to volts\n",
    "\n",
    "  # initialize empty spectrogram\n",
    "  sg = np.empty((nfreq, nseg), float)\n",
    "\n",
    "  # process\n",
    "  for x in range(0,nseg):\n",
    "    cstart = x*spa*fs; cend = (x+1)*spa*fs; cv = v[cstart:cend]\n",
    "    f,psd = scipy.signal.welch(cv,fs,window=w,nfft=fs)\n",
    "    psd = 10*np.log10(psd) - sens\n",
    "    sg[:,x] = psd\n",
    "  # CI\n",
    "  pk = np.squeeze(sg[f==43,:])\n",
    "  bg = np.mean(np.squeeze(np.array(sg[(f==35) | (f==50),:])),axis=0); \n",
    "  CI = pk/bg;\n",
    "  CIm[F,:] = CI"
   ]
  },
  {
   "cell_type": "markdown",
   "metadata": {
    "id": "JEPHAhorfQIg"
   },
   "source": [
    "View the array containing 1-minute CI for the 7 days."
   ]
  },
  {
   "cell_type": "code",
   "execution_count": null,
   "metadata": {
    "id": "3EOdq2D4R0gc"
   },
   "outputs": [],
   "source": [
    "plt.figure(dpi=200, figsize = [9,3])\n",
    "plt.imshow(CIm,aspect='auto',origin='lower')\n",
    "plt.xlabel('Minute of day')\n",
    "plt.ylabel('Day of week')\n",
    "plt.title('Blue whale B call index')\n",
    "plt.colorbar()"
   ]
  },
  {
   "cell_type": "markdown",
   "metadata": {
    "id": "p1moemmPdISn"
   },
   "source": [
    "This time series shows strong variations on short time time scales.  Let's represent the time series as a boxplot with daily bins."
   ]
  },
  {
   "cell_type": "code",
   "execution_count": null,
   "metadata": {
    "id": "iXDYXPhJbqI3"
   },
   "outputs": [],
   "source": [
    "capprops = dict(linewidth=1, color='gray')\n",
    "whiskerprops = dict(linewidth=1, color='gray')\n",
    "medianprops = dict(linewidth=1, color='gray')\n",
    "boxprops = dict(linewidth=1, color='gray')\n",
    "plt.figure(dpi=200, figsize = [2,4])\n",
    "plt.boxplot(np.transpose(CIm), showfliers=False, notch=True, patch_artist=True, boxprops = boxprops, capprops=capprops, whiskerprops=whiskerprops, medianprops=medianprops)\n",
    "plt.ylabel('Call Index')\n",
    "plt.xlabel('Day of week')"
   ]
  },
  {
   "cell_type": "markdown",
   "metadata": {
    "id": "lqYkOxXLJ71X"
   },
   "source": [
    "There is also significant day-to-day variation during this week, which shows a rise, plateau, and fall in CI values.  To examine variation in the B-call index relative to the counts of A calls that we will obtain using supervised machine learning (next tutorial), an effective temporal resolution will be hourly."
   ]
  },
  {
   "cell_type": "code",
   "execution_count": null,
   "metadata": {
    "id": "kfyD4xiCJ9iQ"
   },
   "outputs": [],
   "source": [
    "# compute hourly mean B-call index\n",
    "bin_means, bin_edges, binnumber = scipy.stats.binned_statistic(hr, CIm, statistic='mean', bins=24, range=(0,24))\n",
    "hourlyCI = bin_means.flatten()\n",
    "tsday = np.arange(0, 7, 1/24)    # fractional day reference\n",
    "plt.figure(dpi=200, figsize = [9,3])\n",
    "plt.plot(tsday,hourlyCI,'ks',markersize=3)\n",
    "plt.ylabel('Hourly CI')\n",
    "plt.xlabel('Days')"
   ]
  },
  {
   "cell_type": "markdown",
   "metadata": {
    "id": "OqAyrPnwKDfN"
   },
   "source": [
    "Save the hourly results."
   ]
  },
  {
   "cell_type": "code",
   "execution_count": null,
   "metadata": {
    "id": "WKjT2MdpKt3M"
   },
   "outputs": [],
   "source": [
    "with open('HourlyCI-12-18Nov2017.txt', 'w') as fileout:\n",
    "    for line in hourlyCI:\n",
    "        fileout.write(str(line))\n",
    "        fileout.write('\\n')\n",
    "fileout.close()"
   ]
  },
  {
   "cell_type": "markdown",
   "metadata": {
    "id": "3vnsI05sLfd7"
   },
   "source": [
    "## References\n",
    "---\n",
    "Širović, A., J.A. Hildebrand, S.M. Wiggins, D. Thiele (2009) Blue and fin whale acoustic presence around Antarctica during 2003 and 2004\n",
    "Mar. Mamm. Sci., 25, pp. 125-136\n",
    "\n",
    "Širović, A., J. A. Hildebrand, S. M. Wiggins, M. A. McDonald, S. E. Moore, D. Thiele (2004) Seasonality of blue and fin whale calls and the influence of sea ice in the Western Antarctic Peninsula. Deep-Sea Research II 51:2327–2344.\n",
    "\n",
    "Oestreich, W.K., J.A. Fahlbusch, D.E. Cade, J. Calambokidis, T. Margolina, J. Joseph, A.S. Friedlaender, M.F. McKenna, A.K. Stimpert, B.L. Southall, J.A. Goldbogen, J.P. Ryan (2020). Animal-borne metrics enable acoustic detection of blue whale migration. Current Biology 30(23), 4773-4779."
   ]
  }
 ],
 "metadata": {
  "colab": {
   "collapsed_sections": [],
   "name": "bluewhale_B_call_index.ipynb",
   "private_outputs": true,
   "provenance": []
  },
  "kernelspec": {
   "display_name": "emso-tsc2021-session3",
   "language": "python",
   "name": "emso-tsc2021-session3"
  },
  "language_info": {
   "codemirror_mode": {
    "name": "ipython",
    "version": 3
   },
   "file_extension": ".py",
   "mimetype": "text/x-python",
   "name": "python",
   "nbconvert_exporter": "python",
   "pygments_lexer": "ipython3",
   "version": "3.8.0"
  }
 },
 "nbformat": 4,
 "nbformat_minor": 1
}
